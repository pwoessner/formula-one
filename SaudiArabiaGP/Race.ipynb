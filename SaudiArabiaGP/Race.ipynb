{
 "cells": [
  {
   "cell_type": "code",
   "execution_count": 14,
   "metadata": {},
   "outputs": [],
   "source": [
    "import matplotlib.pyplot as plt\n",
    "import pandas as pd\n",
    "from timple.timedelta import strftimedelta\n",
    "import fastf1\n",
    "import fastf1.plotting\n",
    "from fastf1.core import Laps\n",
    "import logging\n",
    "\n",
    "logger = logging.getLogger()\n",
    "logger.setLevel(logging.WARN)"
   ]
  },
  {
   "cell_type": "code",
   "execution_count": 20,
   "metadata": {},
   "outputs": [],
   "source": [
    "fastf1.Cache.enable_cache('../.cache/')\n",
    "\n",
    "year = 2023\n",
    "gp = 'Saudi Arabia Grand Prix'\n",
    "type = 'R'"
   ]
  },
  {
   "cell_type": "code",
   "execution_count": 19,
   "metadata": {},
   "outputs": [
    {
     "data": {
      "text/plain": [
       "RoundNumber                                                    2\n",
       "Country                                             Saudi Arabia\n",
       "Location                                                  Jeddah\n",
       "OfficialEventName    FORMULA 1 STC SAUDI ARABIAN GRAND PRIX 2023\n",
       "EventDate                                    2023-03-19 22:00:00\n",
       "EventName                               Saudi Arabian Grand Prix\n",
       "EventFormat                                         conventional\n",
       "Session1                                              Practice 1\n",
       "Session1Date                                 2023-03-17 16:30:00\n",
       "Session2                                              Practice 2\n",
       "Session2Date                                 2023-03-17 20:00:00\n",
       "Session3                                              Practice 3\n",
       "Session3Date                                 2023-03-18 16:30:00\n",
       "Session4                                              Qualifying\n",
       "Session4Date                                 2023-03-18 20:00:00\n",
       "Session5                                                    Race\n",
       "Session5Date                                 2023-03-19 20:00:00\n",
       "F1ApiSupport                                                True\n",
       "Name: Saudi Arabian Grand Prix, dtype: object"
      ]
     },
     "execution_count": 19,
     "metadata": {},
     "output_type": "execute_result"
    }
   ],
   "source": [
    "%%capture --no-display\n",
    "\n",
    "session = fastf1.get_session(year, gp, type)\n",
    "session.load()\n",
    "\n",
    "session.event"
   ]
  }
 ],
 "metadata": {
  "kernelspec": {
   "display_name": "f1",
   "language": "python",
   "name": "python3"
  },
  "language_info": {
   "codemirror_mode": {
    "name": "ipython",
    "version": 3
   },
   "file_extension": ".py",
   "mimetype": "text/x-python",
   "name": "python",
   "nbconvert_exporter": "python",
   "pygments_lexer": "ipython3",
   "version": "3.11.0"
  },
  "orig_nbformat": 4
 },
 "nbformat": 4,
 "nbformat_minor": 2
}
